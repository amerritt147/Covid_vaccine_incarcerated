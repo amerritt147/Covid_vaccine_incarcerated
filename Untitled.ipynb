#!/usr/bin/env python3
# -*- coding: utf-8 -*-
"""
Created on Thu Oct 28 13:04:30 2021

@author: alexesmerritt
"""
##Goal:combine the files and include a new coloumn that addresses the original file name
import fileinput
from pathlib import Path
import pandas as pd

import os
import csv

folder = '/Users/alexesmerritt/Desktop/Prison Vaccinaiton Project/vac-states'
files = []
for file in os.listdir(folder):
    if file.endswith('.csv'):
        files.append(file)
print(files)
for file in files: 
    df = pd.read_csv(file)
    df["state"] = file
    df.to_csv(file, index=False)

